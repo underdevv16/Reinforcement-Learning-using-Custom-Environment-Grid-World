{
 "cells": [
  {
   "cell_type": "markdown",
   "id": "db36ed59-5789-40ed-b170-3fc12a71029e",
   "metadata": {},
   "source": [
    "# Reinforcement Learning using Custom Environment:"
   ]
  },
  {
   "cell_type": "markdown",
   "id": "b7c9d7a8-9eae-42c9-b314-81b61f0854ef",
   "metadata": {},
   "source": [
    "## Importing dependencies:"
   ]
  },
  {
   "cell_type": "code",
   "execution_count": 1,
   "id": "1216ad8f-4be6-427d-8a3a-46f053252d6a",
   "metadata": {},
   "outputs": [],
   "source": [
    "import numpy as np\n",
    "import matplotlib.pyplot as plt"
   ]
  },
  {
   "cell_type": "markdown",
   "id": "40f626cf-debe-4f86-9d67-5e0560adcfba",
   "metadata": {},
   "source": [
    "#### World description:\n",
    "\n",
    "This is a Grid World where the player has to start from the top left corner of the grid and make it all the way \n",
    "to the bottom right one.\n",
    "\n",
    "Sounds easy right?\n",
    "\n",
    "But here's the catch, the grid consists of some teleporters, which can teleport the player from one point to another on the grid, \n",
    "completely free of cost. \n",
    "The player has to reach the destination in the minimum possible steps and attain the maximum possible reward."
   ]
  },
  {
   "cell_type": "markdown",
   "id": "406e439e-9e41-4716-a4dd-ee3cda47fe8a",
   "metadata": {},
   "source": [
    "## Creating the Grid World Class:"
   ]
  },
  {
   "cell_type": "code",
   "execution_count": 2,
   "id": "93b5040d-3b51-4e2e-9460-7ab1301c7a68",
   "metadata": {},
   "outputs": [],
   "source": [
    "class GridWorld(object):\n",
    "    def __init__(self, m, n, magicSquares, startPosition=0):\n",
    "        self.grid = np.zeros((m, n))\n",
    "        self.m = m\n",
    "        self.n = n\n",
    "        self.stateSpace = [i for i in range(self.m * self.n)]\n",
    "        self.stateSpace.remove(80)\n",
    "        self.stateSpacePlus = [i for i in range(self.m * self.n)]\n",
    "        self.actionSpace = {\n",
    "            'U': -self.m,\n",
    "            'D': self.m,\n",
    "            'L': -1,\n",
    "            'R': 1\n",
    "        }\n",
    "        self.possibleActions = ['U', 'D', 'L', 'R']\n",
    "        self.addMagicSquares(magicSquares)\n",
    "        self.agentPosition = startPosition\n",
    "\n",
    "    def isTerminalState(self, state):\n",
    "        return state in self.stateSpacePlus and state not in self.stateSpace\n",
    "\n",
    "    def addMagicSquares(self, magicSquares):\n",
    "        self.magicSquares = magicSquares\n",
    "        i = 2  # Start labeling with 2 for magic squares\n",
    "        for start_square, end_square in self.magicSquares.items():\n",
    "            x_start = start_square // self.n\n",
    "            y_start = start_square % self.n\n",
    "            self.grid[x_start][y_start] = i\n",
    "            i += 1\n",
    "            x_end = end_square // self.n\n",
    "            y_end = end_square % self.n\n",
    "            self.grid[x_end][y_end] = i\n",
    "            i += 1\n",
    "\n",
    "    def getAgentRowAndColumn(self):\n",
    "        x = self.agentPosition // self.n\n",
    "        y = self.agentPosition % self.n\n",
    "        return x, y\n",
    "\n",
    "    def setState(self, state):\n",
    "        x, y = self.getAgentRowAndColumn()\n",
    "        self.grid[x][y] = 0\n",
    "        self.agentPosition = state\n",
    "        x, y = self.getAgentRowAndColumn()\n",
    "        self.grid[x][y] = 1\n",
    "\n",
    "    def offGridMove(self, newState, oldState):\n",
    "        if newState not in self.stateSpacePlus:\n",
    "            return True\n",
    "        elif oldState % self.n == 0 and newState % self.n == self.n - 1:\n",
    "            return True\n",
    "        elif oldState % self.n == self.n - 1 and newState % self.n == 0:\n",
    "            return True\n",
    "        else:\n",
    "            return False\n",
    "\n",
    "    def step(self, action):\n",
    "        agentX, agentY = self.getAgentRowAndColumn()\n",
    "        resultingState = self.agentPosition + self.actionSpace[action]\n",
    "        if resultingState in self.magicSquares:\n",
    "            resultingState = self.magicSquares[resultingState]\n",
    "    \n",
    "        reward = -1 if not self.isTerminalState(resultingState) else 0\n",
    "        if not self.offGridMove(resultingState, self.agentPosition):\n",
    "            self.setState(resultingState)\n",
    "            return resultingState, reward, self.isTerminalState(resultingState), None\n",
    "        else:\n",
    "            return self.agentPosition, reward, self.isTerminalState(self.agentPosition), None\n",
    "\n",
    "    def reset(self):\n",
    "        self.agentPosition = 0\n",
    "        self.grid = np.zeros((self.m, self.n))\n",
    "        self.addMagicSquares(self.magicSquares)\n",
    "        return self.agentPosition\n",
    "\n",
    "    def render(self):\n",
    "        print('**************************************************')\n",
    "        for row in self.grid:\n",
    "            for col in row:\n",
    "                if col == 0:\n",
    "                    print('-', end='\\t')\n",
    "                elif col == 1:\n",
    "                    print('P', end='\\t')\n",
    "                elif col == 2:\n",
    "                    print('Ain', end='\\t')\n",
    "                elif col == 3:\n",
    "                    print('Aout', end='\\t')\n",
    "                elif col == 4:\n",
    "                    print('Bin', end='\\t')\n",
    "                elif col == 5:\n",
    "                    print('Bout', end='\\t')\n",
    "            print('\\n')\n",
    "        print('**************************************************')\n",
    "\n",
    "    def actionSpaceSample(self):\n",
    "        return np.random.choice(self.possibleActions)\n"
   ]
  },
  {
   "cell_type": "markdown",
   "id": "11c37b90-fc1a-4d17-b524-f0ce45c5a731",
   "metadata": {},
   "source": [
    "### Creating the Max Action function:"
   ]
  },
  {
   "cell_type": "code",
   "execution_count": 3,
   "id": "4caf19cd-d9f1-4e7b-90d3-c7cc5ca9e461",
   "metadata": {},
   "outputs": [],
   "source": [
    "def maxAction(Q, state, actions):\n",
    "    values = np.array([Q[state, a] for a in actions])\n",
    "    action = np.argmax(values)\n",
    "    return actions[action]"
   ]
  },
  {
   "cell_type": "markdown",
   "id": "4437db90-2cc8-4c74-ab0b-d951e70a7c07",
   "metadata": {},
   "source": [
    "### Defining hyperparameters:"
   ]
  },
  {
   "cell_type": "code",
   "execution_count": 4,
   "id": "41f1763c-922c-4472-9de9-9a42947b3348",
   "metadata": {},
   "outputs": [
    {
     "name": "stdout",
     "output_type": "stream",
     "text": [
      "**************************************************\n",
      "-\t-\t-\t-\t-\t-\t-\t-\t-\t\n",
      "\n",
      "Bout\t-\t-\t-\t-\t-\t-\t-\t-\t\n",
      "\n",
      "Ain\t-\t-\t-\t-\t-\t-\t-\t-\t\n",
      "\n",
      "-\t-\t-\t-\t-\t-\t-\t-\t-\t\n",
      "\n",
      "-\t-\t-\t-\t-\t-\t-\t-\t-\t\n",
      "\n",
      "-\t-\t-\t-\t-\t-\t-\t-\t-\t\n",
      "\n",
      "Aout\t-\t-\t-\t-\t-\t-\t-\t-\t\n",
      "\n",
      "Bin\t-\t-\t-\t-\t-\t-\t-\t-\t\n",
      "\n",
      "-\t-\t-\t-\t-\t-\t-\t-\t-\t\n",
      "\n",
      "**************************************************\n"
     ]
    }
   ],
   "source": [
    "magicSquares = {18 : 54, 63 : 9}\n",
    "\n",
    "env = GridWorld(9, 9, magicSquares)\n",
    "\n",
    "ALPHA = 0.1  # Learning Rate\n",
    "GAMMA = 1.0  # Discount Factor\n",
    "EPS = 1.0    # Epsilon\n",
    "\n",
    "Q = {}\n",
    "for state in env.stateSpacePlus:\n",
    "    for action in env.possibleActions:\n",
    "        Q[state, action] = 0\n",
    "\n",
    "num_games = 70000\n",
    "totalRewards = np.zeros(num_games)\n",
    "env.render()"
   ]
  },
  {
   "cell_type": "markdown",
   "id": "1ee40d63-898a-4fa1-a851-6c0d261e0b15",
   "metadata": {},
   "source": [
    "### Starting the Training Loop:"
   ]
  },
  {
   "cell_type": "code",
   "execution_count": 5,
   "id": "c3d2c735-a842-4f26-bc78-363fc664cec5",
   "metadata": {},
   "outputs": [
    {
     "name": "stdout",
     "output_type": "stream",
     "text": [
      "Starting game : 0\n",
      "Starting game : 5000\n",
      "Starting game : 10000\n",
      "Starting game : 15000\n",
      "Starting game : 20000\n",
      "Starting game : 25000\n",
      "Starting game : 30000\n",
      "Starting game : 35000\n",
      "Starting game : 40000\n",
      "Starting game : 45000\n",
      "Starting game : 50000\n",
      "Starting game : 55000\n",
      "Starting game : 60000\n",
      "Starting game : 65000\n"
     ]
    }
   ],
   "source": [
    "for i in range(num_games):\n",
    "    if i % 5000 == 0:\n",
    "        print(f'Starting game : {i}')\n",
    "    done = False\n",
    "    epRewards = 0\n",
    "    observation = env.reset()\n",
    "    while not done:\n",
    "        rand = np.random.random()\n",
    "        action = maxAction(Q, observation, env.possibleActions) if rand < (1-EPS) else env.actionSpaceSample()\n",
    "\n",
    "        observation_, reward, done, info = env.step(action)\n",
    "        epRewards += reward\n",
    "        action_ = maxAction(Q, observation_, env.possibleActions)\n",
    "        Q[observation, action] = Q[observation, action] + ALPHA * (reward + GAMMA * Q[observation_, action_] - Q[observation, action])\n",
    "        observation = observation_\n",
    "\n",
    "    if EPS - 2/num_games > 0:\n",
    "        EPS -= 2/num_games\n",
    "\n",
    "    else:\n",
    "        EPS = 0\n",
    "    totalRewards[i] = epRewards\n"
   ]
  },
  {
   "cell_type": "markdown",
   "id": "2fb042c3-f6e9-4969-bc76-266050362f02",
   "metadata": {},
   "source": [
    "### Plotting the Results:"
   ]
  },
  {
   "cell_type": "code",
   "execution_count": 6,
   "id": "bdcb0cb6-2655-43ec-92b3-c22465b6dde9",
   "metadata": {},
   "outputs": [
    {
     "data": {
      "image/png": "[encoded data removed]",
      "text/plain": [
       "<Figure size 640x480 with 1 Axes>"
      ]
     },
     "metadata": {},
     "output_type": "display_data"
    }
   ],
   "source": [
    "plt.plot(totalRewards)\n",
    "plt.show()"
   ]
  },
  {
   "cell_type": "code",
   "execution_count": 8,
   "id": "34dd23cb-1917-4d03-9c84-e1564ddf629d",
   "metadata": {},
   "outputs": [
    {
     "name": "stdout",
     "output_type": "stream",
     "text": [
      "[-241. -968. -729. ...  -11.  -11.  -11.]\n"
     ]
    }
   ],
   "source": [
    "print(totalRewards[:])"
   ]
  },
  {
   "cell_type": "code",
   "execution_count": null,
   "id": "b7a95d32-4cfc-4056-898c-c6787adf72f6",
   "metadata": {},
   "outputs": [],
   "source": []
  }
 ],
 "metadata": {
  "kernelspec": {
   "display_name": "Python 3 (ipykernel)",
   "language": "python",
   "name": "python3"
  },
  "language_info": {
   "codemirror_mode": {
    "name": "ipython",
    "version": 3
   },
   "file_extension": ".py",
   "mimetype": "text/x-python",
   "name": "python",
   "nbconvert_exporter": "python",
   "pygments_lexer": "ipython3",
   "version": "3.12.2"
  }
 },
 "nbformat": 4,
 "nbformat_minor": 5
}
