{
 "cells": [
  {
   "cell_type": "markdown",
   "id": "d4ffc420-dfe8-4abe-851d-c69cfbad9caf",
   "metadata": {},
   "source": [
    "# Import Dependencies:"
   ]
  },
  {
   "cell_type": "code",
   "execution_count": 1,
   "id": "55bd44b2-ab88-4846-b95a-871c5b6baf6b",
   "metadata": {},
   "outputs": [],
   "source": [
    "import gymnasium as gym\n",
    "from gym import spaces\n",
    "from gym import Env\n",
    "from gym.spaces import Discrete\n",
    "import numpy as np\n",
    "import pickle\n",
    "import matplotlib.pyplot as plt\n",
    "import pygame\n",
    "import time"
   ]
  },
  {
   "cell_type": "code",
   "execution_count": 2,
   "id": "aaa6d0a6-74ed-478c-ae85-76005dccd20a",
   "metadata": {},
   "outputs": [],
   "source": [
    "class GridWorld(object):\n",
    "    def __init__(self, m, n, magicSquares, startPosition=0):\n",
    "        self.grid = np.zeros((m, n))\n",
    "        self.m = m\n",
    "        self.n = n\n",
    "        self.stateSpace = [i for i in range(self.m * self.n)]\n",
    "        self.stateSpace.remove(80)  # Ensure this is correct for your use case\n",
    "        self.stateSpacePlus = [i for i in range(self.m * self.n)]\n",
    "        self.actionSpace = {\n",
    "            'U': -self.n,\n",
    "            'D': self.n,\n",
    "            'L': -1,\n",
    "            'R': 1\n",
    "        }\n",
    "        self.possibleActions = ['U', 'D', 'L', 'R']\n",
    "        self.addMagicSquares(magicSquares)\n",
    "        self.agentPosition = startPosition\n",
    "\n",
    "    def isTerminalState(self, state):\n",
    "        return state in self.stateSpacePlus and state not in self.stateSpace\n",
    "\n",
    "    def addMagicSquares(self, magicSquares):\n",
    "        self.magicSquares = magicSquares\n",
    "        i = 2  # Start labeling with 2 for magic squares\n",
    "        for start_square, end_square in self.magicSquares.items():\n",
    "            x_start = start_square // self.n\n",
    "            y_start = start_square % self.n\n",
    "            self.grid[x_start][y_start] = i\n",
    "            i += 1\n",
    "            x_end = end_square // self.n\n",
    "            y_end = end_square % self.n\n",
    "            self.grid[x_end][y_end] = i\n",
    "            i += 1\n",
    "\n",
    "    def getAgentRowAndColumn(self):\n",
    "        x = self.agentPosition // self.n\n",
    "        y = self.agentPosition % self.n\n",
    "        return x, y\n",
    "\n",
    "    def setState(self, state):\n",
    "        x, y = self.getAgentRowAndColumn()\n",
    "        self.grid[x][y] = 0\n",
    "        self.agentPosition = state\n",
    "        x, y = self.getAgentRowAndColumn()\n",
    "        self.grid[x][y] = 1\n",
    "\n",
    "    def offGridMove(self, newState, oldState):\n",
    "        if newState not in self.stateSpacePlus:\n",
    "            return True\n",
    "        elif oldState % self.n == 0 and newState % self.n == self.n - 1:\n",
    "            return True\n",
    "        elif oldState % self.n == self.n - 1 and newState % self.n == 0:\n",
    "            return True\n",
    "        else:\n",
    "            return False\n",
    "\n",
    "    def step(self, action):\n",
    "        resultingState = self.agentPosition + self.actionSpace[action]\n",
    "        if resultingState in self.magicSquares:\n",
    "            resultingState = self.magicSquares[resultingState]\n",
    "    \n",
    "        reward = -1 if not self.isTerminalState(resultingState) else 0\n",
    "        if not self.offGridMove(resultingState, self.agentPosition):\n",
    "            self.setState(resultingState)\n",
    "            return resultingState, reward, self.isTerminalState(resultingState), None\n",
    "        else:\n",
    "            return self.agentPosition, reward, self.isTerminalState(self.agentPosition), None\n",
    "\n",
    "    def reset(self):\n",
    "        self.agentPosition = 0\n",
    "        self.grid = np.zeros((self.m, self.n))\n",
    "        self.addMagicSquares(self.magicSquares)\n",
    "        return self.agentPosition\n",
    "\n",
    "    def render(self):\n",
    "        print('**************************************************')\n",
    "        for row in self.grid:\n",
    "            for col in row:\n",
    "                if col == 0:\n",
    "                    print('-', end='\\t')\n",
    "                elif col == 1:\n",
    "                    print('P', end='\\t')\n",
    "                elif col == 2:\n",
    "                    print('Ain', end='\\t')\n",
    "                elif col == 3:\n",
    "                    print('Aout', end='\\t')\n",
    "                elif col == 4:\n",
    "                    print('Bin', end='\\t')\n",
    "                elif col == 5:\n",
    "                    print('Bout', end='\\t')\n",
    "            print('\\n')\n",
    "        print('**************************************************')\n",
    "\n",
    "    def actionSpaceSample(self):\n",
    "        return np.random.choice(self.possibleActions)"
   ]
  },
  {
   "cell_type": "markdown",
   "id": "32bd2ebd-b61e-40a1-9882-66093df7374b",
   "metadata": {},
   "source": [
    "## Create the Custom Environment:"
   ]
  },
  {
   "cell_type": "code",
   "execution_count": 3,
   "id": "05c14706-d5a4-4e42-9b6f-cfa324fc1a5f",
   "metadata": {},
   "outputs": [],
   "source": [
    "class GridWorldEnv(Env):\n",
    "    metadata = {'render.modes': ['human']}\n",
    "\n",
    "    def __init__(self, gridWorld, portal_1_entry_img_path, portal_1_exit_img_path, portal_2_entry_img_path, portal_2_exit_img_path, player_img_path, destination_img_path):\n",
    "        super(GridWorldEnv, self).__init__()\n",
    "        self.gridWorld = gridWorld\n",
    "        self.cell_size = 64  # Set the cell size to match the image size\n",
    "        self.width = self.gridWorld.n * self.cell_size\n",
    "        self.height = self.gridWorld.m * self.cell_size\n",
    "        self.action_space = Discrete(len(self.gridWorld.possibleActions))\n",
    "        self.observation_space = Discrete(self.gridWorld.m * self.gridWorld.n)\n",
    "\n",
    "        # Initialize Pygame for graphical rendering\n",
    "        self.screen = None\n",
    "\n",
    "        # Load images\n",
    "        self.portal_1_entry_img = pygame.image.load(portal_1_entry_img_path)\n",
    "        self.portal_1_entry_img = pygame.transform.scale(self.portal_1_entry_img, (self.cell_size, self.cell_size))\n",
    "        self.portal_1_exit_img = pygame.image.load(portal_1_exit_img_path)\n",
    "        self.portal_1_exit_img = pygame.transform.scale(self.portal_1_exit_img, (self.cell_size, self.cell_size))\n",
    "        self.portal_2_entry_img = pygame.image.load(portal_2_entry_img_path)\n",
    "        self.portal_2_entry_img = pygame.transform.scale(self.portal_2_entry_img, (self.cell_size, self.cell_size))\n",
    "        self.portal_2_exit_img = pygame.image.load(portal_2_exit_img_path)\n",
    "        self.portal_2_exit_img = pygame.transform.scale(self.portal_2_exit_img, (self.cell_size, self.cell_size))\n",
    "        self.player_img = pygame.image.load(player_img_path)\n",
    "        self.player_img = pygame.transform.scale(self.player_img, (self.cell_size, self.cell_size))\n",
    "        self.destination_img = pygame.image.load(destination_img_path)\n",
    "        self.destination_img = pygame.transform.scale(self.destination_img, (self.cell_size, self.cell_size))\n",
    "\n",
    "        # Determine the destination cell based on the final position (e.g., bottom-right corner)\n",
    "        self.destination_cell = (self.gridWorld.m - 1, self.gridWorld.n - 1)  # Last cell\n",
    "\n",
    "        # Store portal positions for rendering\n",
    "        self.portal_positions = {\n",
    "            'portal_1_entry': set(),\n",
    "            'portal_1_exit': set(),\n",
    "            'portal_2_entry': set(),\n",
    "            'portal_2_exit': set()\n",
    "        }\n",
    "        \n",
    "        for start, end in self.gridWorld.magicSquares.items():\n",
    "            if end in self.gridWorld.magicSquares:\n",
    "                self.portal_positions['portal_1_entry'].add(start)\n",
    "                self.portal_positions['portal_1_exit'].add(end)\n",
    "            else:\n",
    "                self.portal_positions['portal_2_entry'].add(start)\n",
    "                self.portal_positions['portal_2_exit'].add(end)\n",
    "\n",
    "    def reset(self):\n",
    "        return self.gridWorld.reset()\n",
    "\n",
    "    def step(self, action_index):\n",
    "        # Map action index to action string\n",
    "        action = self.gridWorld.possibleActions[action_index]\n",
    "        state, reward, done, _ = self.gridWorld.step(action)\n",
    "        return state, reward, done, {}\n",
    "\n",
    "    def render(self, mode='human'):\n",
    "        if self.screen is None:\n",
    "            pygame.init()\n",
    "            self.screen = pygame.display.set_mode((self.width, self.height))\n",
    "        \n",
    "        self.screen.fill((255, 255, 255))  # Fill screen with white\n",
    "\n",
    "        for i in range(self.gridWorld.m):\n",
    "            for j in range(self.gridWorld.n):\n",
    "                cell_value = self.gridWorld.grid[i, j]\n",
    "                rect = pygame.Rect(j * self.cell_size, i * self.cell_size, self.cell_size, self.cell_size)\n",
    "                pygame.draw.rect(self.screen, (255, 255, 255), rect)\n",
    "                pygame.draw.rect(self.screen, (0, 0, 0), rect, 1)  # Draw grid lines\n",
    "\n",
    "                cell_index = i * self.gridWorld.n + j\n",
    "\n",
    "                # Draw images based on the cell value and portal positions\n",
    "                if (i, j) == self.destination_cell:\n",
    "                    self.screen.blit(self.destination_img, rect.topleft)\n",
    "                elif cell_index in self.portal_positions['portal_1_entry']:\n",
    "                    self.screen.blit(self.portal_1_entry_img, rect.topleft)\n",
    "                elif cell_index in self.portal_positions['portal_1_exit']:\n",
    "                    self.screen.blit(self.portal_1_exit_img, rect.topleft)\n",
    "                elif cell_index in self.portal_positions['portal_2_entry']:\n",
    "                    self.screen.blit(self.portal_2_entry_img, rect.topleft)\n",
    "                elif cell_index in self.portal_positions['portal_2_exit']:\n",
    "                    self.screen.blit(self.portal_2_exit_img, rect.topleft)\n",
    "                elif cell_value == 1:  # Player\n",
    "                    self.screen.blit(self.player_img, rect.topleft)\n",
    "\n",
    "        pygame.display.flip()\n",
    "\n",
    "    def close(self):\n",
    "        if self.screen is not None:\n",
    "            pygame.quit()\n",
    "            self.screen = None\n"
   ]
  },
  {
   "cell_type": "code",
   "execution_count": 4,
   "id": "6b3bf89f-c6a9-419a-a10e-15959856b9a2",
   "metadata": {},
   "outputs": [],
   "source": [
    "portal_1_entry = 'minato_final.png'\n",
    "portal_1_exit = 'thunder_god_kunai.png'\n",
    "portal_2_entry = 'portal (1).png'\n",
    "portal_2_exit = 'portal.png'\n",
    "player_path = 'ninja.png'\n",
    "dest_path = 'ramen.png'"
   ]
  },
  {
   "cell_type": "code",
   "execution_count": 5,
   "id": "53e4b216-8a67-4fb3-b821-c108ede28a89",
   "metadata": {},
   "outputs": [],
   "source": [
    "# grid_world = GridWorld(9, 9, {20:54, 63:9})\n",
    "# env = GridWorldEnv(grid_world, portal_1_entry, portal_1_exit, portal_2_entry, portal_2_exit, player_path, dest_path)\n",
    "# state = env.reset()\n",
    "# done = False\n",
    "\n",
    "# while not done:\n",
    "#     env.render()\n",
    "#     action = env.action_space.sample()\n",
    "#     state, reward, done, _ = env.step(action)\n",
    "#     time.sleep(0.5)\n",
    "\n",
    "# env.close()"
   ]
  },
  {
   "cell_type": "markdown",
   "id": "c1685e07-28d9-4187-90b3-6c9f59df716d",
   "metadata": {},
   "source": [
    "## Creating the Max Action function:"
   ]
  },
  {
   "cell_type": "code",
   "execution_count": 6,
   "id": "d45f5ea9-2c6e-4b83-b8d3-011062abd772",
   "metadata": {},
   "outputs": [],
   "source": [
    "def maxAction(Q, state, actions):\n",
    "    values = np.array([Q[state, action] for action in actions])\n",
    "    action = actions[np.argmax(values)]\n",
    "    return action"
   ]
  },
  {
   "cell_type": "markdown",
   "id": "6d02df12-29ba-4ebc-98ef-a158eb098fda",
   "metadata": {},
   "source": [
    "## Defining Hyperparameters:"
   ]
  },
  {
   "cell_type": "code",
   "execution_count": 7,
   "id": "bf168b64-cc19-4c04-a139-9dc8c8d46e5a",
   "metadata": {},
   "outputs": [],
   "source": [
    "ALPHA = 0.1  # Learning Rate\n",
    "GAMMA = 1.0  # Discount Factor\n",
    "EPS = 1.0    # Epsilon\n",
    "num_games = 70000\n",
    "totalRewards = np.zeros(num_games)"
   ]
  },
  {
   "cell_type": "markdown",
   "id": "5057f301-53c6-4933-8831-44c1230f380e",
   "metadata": {},
   "source": [
    "## Initialize environment and Q-table:"
   ]
  },
  {
   "cell_type": "code",
   "execution_count": 8,
   "id": "210ff404-7aa3-484d-8bc2-cf692bddedc3",
   "metadata": {},
   "outputs": [],
   "source": [
    "magicSquares = {18: 48, 63: 7}\n",
    "grid_world = GridWorld(9, 9, magicSquares)\n",
    "env = GridWorldEnv(grid_world, portal_1_entry, portal_1_exit, portal_2_entry, portal_2_exit, player_path, dest_path)\n",
    "\n",
    "Q = {}\n",
    "for state in env.gridWorld.stateSpacePlus:\n",
    "    for action in env.gridWorld.possibleActions:\n",
    "        Q[state, action] = 0"
   ]
  },
  {
   "cell_type": "markdown",
   "id": "3bfae134-41f1-46e7-8e1c-95da79a6d725",
   "metadata": {},
   "source": [
    "## Training Loop:"
   ]
  },
  {
   "cell_type": "code",
   "execution_count": 9,
   "id": "760b77d8-4c16-460d-afce-ea9dec92c848",
   "metadata": {},
   "outputs": [
    {
     "name": "stdout",
     "output_type": "stream",
     "text": [
      "Starting game : 0\n",
      "Starting game : 5000\n",
      "Starting game : 10000\n",
      "Starting game : 15000\n",
      "Starting game : 20000\n",
      "Starting game : 25000\n",
      "Starting game : 30000\n",
      "Starting game : 35000\n",
      "Starting game : 40000\n",
      "Starting game : 45000\n",
      "Starting game : 50000\n",
      "Starting game : 55000\n",
      "Starting game : 60000\n",
      "Starting game : 65000\n"
     ]
    }
   ],
   "source": [
    "for i in range(num_games):\n",
    "    if i % 5000 == 0:\n",
    "        print(f'Starting game : {i}')\n",
    "    done = False\n",
    "    epRewards = 0\n",
    "    observation = env.reset()\n",
    "    while not done:\n",
    "        rand = np.random.random()\n",
    "        action = maxAction(Q, observation, env.gridWorld.possibleActions) if rand < (1 - EPS) else env.gridWorld.actionSpaceSample()\n",
    "        action_index = env.gridWorld.possibleActions.index(action)\n",
    "        observation_, reward, done, _ = env.step(action_index)\n",
    "        epRewards += reward\n",
    "        action_ = maxAction(Q, observation_, env.gridWorld.possibleActions)\n",
    "        action_index_ = env.gridWorld.possibleActions.index(action_)\n",
    "        \n",
    "        # Use get method to handle missing keys\n",
    "        Q[observation, action] = Q.get((observation, action), 0) + ALPHA * (reward + GAMMA * Q.get((observation_, action_), 0) - Q.get((observation, action), 0))\n",
    "        observation = observation_\n",
    "\n",
    "    if EPS - 2 / num_games > 0:\n",
    "        EPS -= 2 / num_games\n",
    "    else:\n",
    "        EPS = 0\n",
    "    totalRewards[i] = epRewards"
   ]
  },
  {
   "cell_type": "markdown",
   "id": "cde334c4-9fa7-4a5b-b364-3b22e996c2e6",
   "metadata": {},
   "source": [
    "## Save the trained Q-table"
   ]
  },
  {
   "cell_type": "code",
   "execution_count": 10,
   "id": "70866dfc-1e63-49f1-b7e0-b1a45ccc0741",
   "metadata": {},
   "outputs": [
    {
     "name": "stdout",
     "output_type": "stream",
     "text": [
      "Training complete and Q-table saved.\n"
     ]
    }
   ],
   "source": [
    "with open('q_table.pkl', 'wb') as f:\n",
    "    pickle.dump(Q, f)\n",
    "print(\"Training complete and Q-table saved.\")"
   ]
  },
  {
   "cell_type": "markdown",
   "id": "f2cdc5a9-fef3-4c60-9e7d-eb2212848001",
   "metadata": {},
   "source": [
    "## Load the trained Q-table and play the game"
   ]
  },
  {
   "cell_type": "code",
   "execution_count": 11,
   "id": "09460117-4b65-4fe2-bdd2-b65a40432c37",
   "metadata": {},
   "outputs": [],
   "source": [
    "with open('q_table.pkl', 'rb') as f:\n",
    "    Q = pickle.load(f)"
   ]
  },
  {
   "cell_type": "markdown",
   "id": "414b6c79-1426-4ac6-b5e8-86918e555e08",
   "metadata": {},
   "source": [
    "## Play the game for 4 episodes"
   ]
  },
  {
   "cell_type": "code",
   "execution_count": 12,
   "id": "3cb44720-181f-43c1-9199-52f6643035a0",
   "metadata": {},
   "outputs": [],
   "source": [
    "for episode in range(4):\n",
    "    done = False\n",
    "    observation = env.reset()\n",
    "    while not done:\n",
    "        env.render()  # Show the environment\n",
    "        action = maxAction(Q, observation, env.gridWorld.possibleActions)\n",
    "        action_index = env.gridWorld.possibleActions.index(action)\n",
    "        observation, _, done, _ = env.step(action_index)\n",
    "        pygame.time.delay(500)  # Delay to visualize\n",
    "\n",
    "env.close()"
   ]
  },
  {
   "cell_type": "markdown",
   "id": "a45d475d-17cc-46d1-a900-6e6ed6dbd305",
   "metadata": {},
   "source": [
    "## Plotting the Results:"
   ]
  },
  {
   "cell_type": "code",
   "execution_count": 13,
   "id": "84cf217d-393c-420d-9fff-0348dea3c574",
   "metadata": {},
   "outputs": [
    {
     "data": {
      "image/png": "[encoded data removed]",
      "text/plain": [
       "<Figure size 640x480 with 1 Axes>"
      ]
     },
     "metadata": {},
     "output_type": "display_data"
    }
   ],
   "source": [
    "plt.plot(totalRewards)\n",
    "plt.xlabel('Episode')\n",
    "plt.ylabel('Total Reward')\n",
    "plt.title('Total Rewards over Episodes')\n",
    "plt.show()"
   ]
  },
  {
   "cell_type": "code",
   "execution_count": null,
   "id": "55244b4d-6731-43d2-800d-7fe519c7ef50",
   "metadata": {},
   "outputs": [],
   "source": []
  }
 ],
 "metadata": {
  "kernelspec": {
   "display_name": "Python 3 (ipykernel)",
   "language": "python",
   "name": "python3"
  },
  "language_info": {
   "codemirror_mode": {
    "name": "ipython",
    "version": 3
   },
   "file_extension": ".py",
   "mimetype": "text/x-python",
   "name": "python",
   "nbconvert_exporter": "python",
   "pygments_lexer": "ipython3",
   "version": "3.12.2"
  }
 },
 "nbformat": 4,
 "nbformat_minor": 5
}
